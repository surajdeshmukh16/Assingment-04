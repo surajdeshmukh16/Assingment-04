{
  "nbformat": 4,
  "nbformat_minor": 0,
  "metadata": {
    "colab": {
      "provenance": []
    },
    "kernelspec": {
      "name": "python3",
      "display_name": "Python 3"
    },
    "language_info": {
      "name": "python"
    }
  },
  "cells": [
    {
      "cell_type": "code",
      "execution_count": 3,
      "metadata": {
        "colab": {
          "base_uri": "https://localhost:8080/"
        },
        "id": "OEy3hAA-_js_",
        "outputId": "c3455313-bb76-4333-a0c2-f63fcba524c2"
      },
      "outputs": [
        {
          "output_type": "stream",
          "name": "stdout",
          "text": [
            "Enter The Number Thay You Want to add:10\n",
            "35\n"
          ]
        }
      ],
      "source": [
        "#Write a Python program to create a lambda function that adds 25 to a given number passed in as an argument.\n",
        "n=int(input(\"Enter The Number Thay You Want to add:\"))\n",
        "x=lambda y:y+25\n",
        "print(x(n))\n",
        "\n"
      ]
    },
    {
      "cell_type": "code",
      "source": [
        "#Write a Python program to triple all numbers of a given list of integers. Use Python map.\n",
        "l=[int(x) for x in input().split()]\n",
        "l1=(list(map(lambda y:y*3,l)))\n",
        "print(\"The elments after triples are\",l1)"
      ],
      "metadata": {
        "colab": {
          "base_uri": "https://localhost:8080/"
        },
        "id": "ZscbIFaAAjZ4",
        "outputId": "6e387a71-25c3-44e1-f4f3-a6f54b52c431"
      },
      "execution_count": 4,
      "outputs": [
        {
          "output_type": "stream",
          "name": "stdout",
          "text": [
            "102 20 30\n",
            "The elments after triples are [306, 60, 90]\n"
          ]
        }
      ]
    },
    {
      "cell_type": "code",
      "source": [
        "#Write a Python program to square the elements of a list using map() function.\n",
        "l=[int(x) for x in input().split()]\n",
        "l1=(list(map(lambda y: y**2,l)))\n",
        "print(\"The Squares of Numbers in a list are\",l1)"
      ],
      "metadata": {
        "colab": {
          "base_uri": "https://localhost:8080/"
        },
        "id": "ry6qMIGCBhmH",
        "outputId": "654b42e7-f272-4ee7-a22c-4593b85687e6"
      },
      "execution_count": 5,
      "outputs": [
        {
          "output_type": "stream",
          "name": "stdout",
          "text": [
            "3 4 5 6 6\n",
            "The Squares of Numbers in a list are [9, 16, 25, 36, 36]\n"
          ]
        }
      ]
    }
  ]
}